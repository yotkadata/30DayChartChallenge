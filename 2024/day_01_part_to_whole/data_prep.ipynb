{
 "cells": [
  {
   "cell_type": "markdown",
   "metadata": {},
   "source": [
    "# Worldwide Military Expenditure 2022\n",
    "\n",
    "With data frim the [SIPRI Military Expenditure Database](https://www.sipri.org/databases/milex) for the #30DayChartChallenge 2024, day 1.\n",
    "\n",
    "Data preparation for a voronoi treemap with the `d3.js` library."
   ]
  },
  {
   "cell_type": "code",
   "execution_count": null,
   "metadata": {},
   "outputs": [],
   "source": [
    "import json\n",
    "\n",
    "import pandas as pd"
   ]
  },
  {
   "cell_type": "code",
   "execution_count": null,
   "metadata": {},
   "outputs": [],
   "source": [
    "sipri_raw = pd.read_excel(\n",
    "    \"data/SIPRI-Milex-data-1949-2023.xlsx\", sheet_name=\"Constant (2022) US$\", skiprows=5,\n",
    ")"
   ]
  },
  {
   "cell_type": "code",
   "execution_count": null,
   "metadata": {},
   "outputs": [],
   "source": [
    "# Set \"Country\" as index\n",
    "sipri = sipri_raw.set_index(\"Country\")\n",
    "\n",
    "# Remove \"Notes\" column\n",
    "sipri = sipri.drop(columns=\"Notes\")\n",
    "\n",
    "# Convert column names to strings\n",
    "sipri.columns = sipri.columns.astype(str)\n",
    "\n",
    "# Set dytpes for columns to float replacing \"...\" and \"xxx\" with NaN\n",
    "for col in sipri.columns:\n",
    "    sipri[col] = pd.to_numeric(sipri[col], errors='coerce')\n",
    "\n",
    "# Remove empty rows and columns (all NaN)\n",
    "sipri = sipri.dropna(how='all')\n",
    "sipri = sipri.dropna(axis=1, how='all')\n",
    "\n",
    "# Set 'real' value since SIPRI data is in million\n",
    "sipri = sipri * 1e6\n",
    "\n",
    "# Reset index and order by \"Country\"\n",
    "sipri = sipri.reset_index().sort_values(\"Country\").reset_index(drop=True)\n",
    "\n",
    "# Keep only data for 2022\n",
    "sipri_2022 = sipri[[\"Country\", \"2022\"]].copy().dropna().sort_values(\"2022\", ascending=False)\n"
   ]
  },
  {
   "cell_type": "code",
   "execution_count": null,
   "metadata": {},
   "outputs": [],
   "source": [
    "# Import NATO membership data from json to dict\n",
    "with open(\"data/nato_memberships.json\") as f:\n",
    "    nato_memberships = json.load(f)\n",
    "\n",
    "# Add NATO membership column\n",
    "sipri_2022[\"NATO\"] = sipri_2022[\"Country\"].apply(lambda x: \"NATO\" if x in nato_memberships[\"2022\"] else \"None\")"
   ]
  },
  {
   "cell_type": "code",
   "execution_count": null,
   "metadata": {},
   "outputs": [],
   "source": [
    "sipri_voronoi = sipri_2022[[\"Country\", \"NATO\", \"2022\"]].copy()\n",
    "\n",
    "# Set column names\n",
    "sipri_voronoi.columns = [\"country\", \"group\", \"expenditure\"]\n",
    "\n",
    "sipri_voronoi[\"pct_of_group\"] = sipri_voronoi.groupby(\"group\")[\"expenditure\"].transform(\n",
    "    lambda x: x / x.sum()\n",
    ")\n",
    "\n",
    "sipri_voronoi[\"pct_of_total\"] = sipri_voronoi[\"expenditure\"] / sipri_voronoi[\"expenditure\"].sum()\n",
    "\n",
    "# Order by expenditure\n",
    "sipri_voronoi = sipri_voronoi.sort_values(\"expenditure\", ascending=False)\n",
    "\n",
    "# Rename some countries\n",
    "countries_rename = {\n",
    "    \"United States of America\": \"USA\",\n",
    "    \"Korea, South\": \"South Korea\",\n",
    "    \"United Kingdom\": \"UK\",\n",
    "}\n",
    "sipri_voronoi[\"country\"] = sipri_voronoi[\"country\"].replace(countries_rename)\n",
    "\n",
    "# Export to json\n",
    "sipri_voronoi.to_json(\"voronoi/src/data/sipri_voronoi.json\", orient=\"records\")\n",
    "\n",
    "sipri_voronoi\n"
   ]
  }
 ],
 "metadata": {
  "kernelspec": {
   "display_name": "jupyter",
   "language": "python",
   "name": "python3"
  },
  "language_info": {
   "codemirror_mode": {
    "name": "ipython",
    "version": 3
   },
   "file_extension": ".py",
   "mimetype": "text/x-python",
   "name": "python",
   "nbconvert_exporter": "python",
   "pygments_lexer": "ipython3",
   "version": "3.11.3"
  }
 },
 "nbformat": 4,
 "nbformat_minor": 2
}
